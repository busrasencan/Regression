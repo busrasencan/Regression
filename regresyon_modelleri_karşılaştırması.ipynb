{
  "nbformat": 4,
  "nbformat_minor": 0,
  "metadata": {
    "colab": {
      "name": "regresyon_modelleri_karşılaştırması.ipynb",
      "provenance": [],
      "collapsed_sections": [],
      "authorship_tag": "ABX9TyOd+3DiFKDn46IXXk6vXK1Z",
      "include_colab_link": true
    },
    "kernelspec": {
      "name": "python3",
      "display_name": "Python 3"
    }
  },
  "cells": [
    {
      "cell_type": "markdown",
      "metadata": {
        "id": "view-in-github",
        "colab_type": "text"
      },
      "source": [
        "<a href=\"https://colab.research.google.com/github/busrasencan/Regresyon_Modelleri/blob/master/regresyon_modelleri_kar%C5%9F%C4%B1la%C5%9Ft%C4%B1rmas%C4%B1.ipynb\" target=\"_parent\"><img src=\"https://colab.research.google.com/assets/colab-badge.svg\" alt=\"Open In Colab\"/></a>"
      ]
    },
    {
      "cell_type": "markdown",
      "metadata": {
        "id": "kObWhCFydfp0",
        "colab_type": "text"
      },
      "source": [
        "# **Kombine Çevrim Enerji Santrali Veri Seti (Combined Cycle Power Plant Data Set)**\n",
        "\n",
        "Veri seti, santralin tam yük ile çalışmaya ayarlandığı 6 yıl (2006-2011) üzerinden Kombine Çevrim Santralinden toplanan 9568 veri noktası içermektedir. Tesisin net saatlik elektrik enerjisi çıkışını (EP) tahmin etmek için özellikler saatlik ortalama ortam değişkenleri Sıcaklık (T), Ortam Basıncı (AP), Bağıl Nem (RH) ve Egzoz Vakumundan (V) oluşur. Kombine çevrim enerji santrali (CCPP), gaz türbinleri (GT), buhar türbinleri (ST) ve ısı geri kazanım buhar jeneratörlerinden oluşur. Bir CCPP'de elektrik, bir döngüde birleştirilen ve bir türbinden diğerine aktarılan gaz ve buhar türbinleri tarafından üretilir. Vakum buhar türbininden toplanır ve üzerinde etkili olurken, ortam değişkenlerinin diğer üçü GT performansını etkiler. Veri seti normal dağılmaktadır ve eksik gözlem yoktur.\n",
        "\n",
        "\n",
        "\n",
        "Özellikler saatlik ortalama ortam değişkenlerinden oluşur.\n",
        "- Sıcaklık (AT) 1.81 ° C ve 37.11 ° C aralığında\n",
        "- Egzoz Vakumu (V) 25.36-81.56 cm Hg aralığında \n",
        "- Ortam Basıncı (AP) 992.89-1033.30 milibar aralığında\n",
        "- Bağıl Nem (RH) %25,56 ila %100,16 aralığında\n",
        "- Net saatlik elektrik enerjisi çıkışı (PE) 420.26-495.76 MW aralığındadır.\n",
        "\n",
        "Ortalamalar, tesis değişkenlerini her saniye ortam değişkenlerini kaydeden çeşitli sensörlerden alınır. Değişkenler normalleştirilmeden verilir.\n",
        "\n",
        "\n",
        "\n",
        "\n",
        "https://archive.ics.uci.edu/ml/datasets/Combined+Cycle+Power+Plant"
      ]
    },
    {
      "cell_type": "markdown",
      "metadata": {
        "id": "9sQCNJbCGfNy",
        "colab_type": "text"
      },
      "source": [
        "# **Çoklu Doğrusal Regresyon**\n",
        "Çoklu doğrusal regresyonda amaç bağımlı ve bağımsız değişkenler arasındaki ilişkiyi ifade eden doğrusal fonksiyonu bulmaktır (hata kareler ortalaması minimum olmalıdır). \n",
        "1. Çoklu doğrusal regresyon ile bağımlı değişkeni etkileyen değerler vasıtasıyla bağımlı değişkenin değerini tahmin etmek\n",
        "2.Etkilediği düşünülen bağımsız değişkenlerden hangisinin bağımlı değişkeni daha çok etkilediğini bulmak gibi iki önemli amacı daha vardır.\n",
        "\n",
        "Varsayımları;\n",
        "- Hatalar normal dağılır.\n",
        "- Hatalar birbiirnden bağımsızdır ve aralarında otokorelasyon yoktur.\n",
        "- Her bir gözlem için hata terimleri varyansları sabittir.\n",
        "- Değişkenler ile hata terimi arasında ilişki yoktur.\n",
        "- Bağımsız değişkenler arasında çoklu doğrusal ilişki problemi yoktur."
      ]
    },
    {
      "cell_type": "code",
      "metadata": {
        "id": "-1MqQf_E8Tmc",
        "colab_type": "code",
        "colab": {}
      },
      "source": [
        "import numpy as np\n",
        "import matplotlib.pyplot as plt\n",
        "import pandas as pd"
      ],
      "execution_count": null,
      "outputs": []
    },
    {
      "cell_type": "code",
      "metadata": {
        "id": "0dR0oZCHBUvN",
        "colab_type": "code",
        "colab": {}
      },
      "source": [
        "dataset = pd.read_csv('Data.csv')\n",
        "X = dataset.iloc[:, :-1].values\n",
        "y = dataset.iloc[:, -1].values"
      ],
      "execution_count": null,
      "outputs": []
    },
    {
      "cell_type": "code",
      "metadata": {
        "id": "EU_jWYXLqXbV",
        "colab_type": "code",
        "colab": {
          "base_uri": "https://localhost:8080/",
          "height": 363
        },
        "outputId": "878eaa6c-d35d-41d4-b5c3-139e3d7458f6"
      },
      "source": [
        "dataset.head(10)"
      ],
      "execution_count": 34,
      "outputs": [
        {
          "output_type": "execute_result",
          "data": {
            "text/html": [
              "<div>\n",
              "<style scoped>\n",
              "    .dataframe tbody tr th:only-of-type {\n",
              "        vertical-align: middle;\n",
              "    }\n",
              "\n",
              "    .dataframe tbody tr th {\n",
              "        vertical-align: top;\n",
              "    }\n",
              "\n",
              "    .dataframe thead th {\n",
              "        text-align: right;\n",
              "    }\n",
              "</style>\n",
              "<table border=\"1\" class=\"dataframe\">\n",
              "  <thead>\n",
              "    <tr style=\"text-align: right;\">\n",
              "      <th></th>\n",
              "      <th>AT</th>\n",
              "      <th>V</th>\n",
              "      <th>AP</th>\n",
              "      <th>RH</th>\n",
              "      <th>PE</th>\n",
              "    </tr>\n",
              "  </thead>\n",
              "  <tbody>\n",
              "    <tr>\n",
              "      <th>0</th>\n",
              "      <td>14.96</td>\n",
              "      <td>41.76</td>\n",
              "      <td>1024.07</td>\n",
              "      <td>73.17</td>\n",
              "      <td>463.26</td>\n",
              "    </tr>\n",
              "    <tr>\n",
              "      <th>1</th>\n",
              "      <td>25.18</td>\n",
              "      <td>62.96</td>\n",
              "      <td>1020.04</td>\n",
              "      <td>59.08</td>\n",
              "      <td>444.37</td>\n",
              "    </tr>\n",
              "    <tr>\n",
              "      <th>2</th>\n",
              "      <td>5.11</td>\n",
              "      <td>39.40</td>\n",
              "      <td>1012.16</td>\n",
              "      <td>92.14</td>\n",
              "      <td>488.56</td>\n",
              "    </tr>\n",
              "    <tr>\n",
              "      <th>3</th>\n",
              "      <td>20.86</td>\n",
              "      <td>57.32</td>\n",
              "      <td>1010.24</td>\n",
              "      <td>76.64</td>\n",
              "      <td>446.48</td>\n",
              "    </tr>\n",
              "    <tr>\n",
              "      <th>4</th>\n",
              "      <td>10.82</td>\n",
              "      <td>37.50</td>\n",
              "      <td>1009.23</td>\n",
              "      <td>96.62</td>\n",
              "      <td>473.90</td>\n",
              "    </tr>\n",
              "    <tr>\n",
              "      <th>5</th>\n",
              "      <td>26.27</td>\n",
              "      <td>59.44</td>\n",
              "      <td>1012.23</td>\n",
              "      <td>58.77</td>\n",
              "      <td>443.67</td>\n",
              "    </tr>\n",
              "    <tr>\n",
              "      <th>6</th>\n",
              "      <td>15.89</td>\n",
              "      <td>43.96</td>\n",
              "      <td>1014.02</td>\n",
              "      <td>75.24</td>\n",
              "      <td>467.35</td>\n",
              "    </tr>\n",
              "    <tr>\n",
              "      <th>7</th>\n",
              "      <td>9.48</td>\n",
              "      <td>44.71</td>\n",
              "      <td>1019.12</td>\n",
              "      <td>66.43</td>\n",
              "      <td>478.42</td>\n",
              "    </tr>\n",
              "    <tr>\n",
              "      <th>8</th>\n",
              "      <td>14.64</td>\n",
              "      <td>45.00</td>\n",
              "      <td>1021.78</td>\n",
              "      <td>41.25</td>\n",
              "      <td>475.98</td>\n",
              "    </tr>\n",
              "    <tr>\n",
              "      <th>9</th>\n",
              "      <td>11.74</td>\n",
              "      <td>43.56</td>\n",
              "      <td>1015.14</td>\n",
              "      <td>70.72</td>\n",
              "      <td>477.50</td>\n",
              "    </tr>\n",
              "  </tbody>\n",
              "</table>\n",
              "</div>"
            ],
            "text/plain": [
              "      AT      V       AP     RH      PE\n",
              "0  14.96  41.76  1024.07  73.17  463.26\n",
              "1  25.18  62.96  1020.04  59.08  444.37\n",
              "2   5.11  39.40  1012.16  92.14  488.56\n",
              "3  20.86  57.32  1010.24  76.64  446.48\n",
              "4  10.82  37.50  1009.23  96.62  473.90\n",
              "5  26.27  59.44  1012.23  58.77  443.67\n",
              "6  15.89  43.96  1014.02  75.24  467.35\n",
              "7   9.48  44.71  1019.12  66.43  478.42\n",
              "8  14.64  45.00  1021.78  41.25  475.98\n",
              "9  11.74  43.56  1015.14  70.72  477.50"
            ]
          },
          "metadata": {
            "tags": []
          },
          "execution_count": 34
        }
      ]
    },
    {
      "cell_type": "code",
      "metadata": {
        "id": "zD1cPRd2BUta",
        "colab_type": "code",
        "colab": {}
      },
      "source": [
        "from sklearn.model_selection import train_test_split\n",
        "X_train, X_test, y_train, y_test = train_test_split(X, y, test_size = 0.2, random_state = 0)"
      ],
      "execution_count": null,
      "outputs": []
    },
    {
      "cell_type": "code",
      "metadata": {
        "id": "IoQ4psvTBUrD",
        "colab_type": "code",
        "colab": {
          "base_uri": "https://localhost:8080/",
          "height": 35
        },
        "outputId": "9ed2ae40-c1ae-43da-de1a-0c40925b40b3"
      },
      "source": [
        "from sklearn.linear_model import LinearRegression\n",
        "regressor = LinearRegression()\n",
        "regressor.fit(X_train, y_train)"
      ],
      "execution_count": null,
      "outputs": [
        {
          "output_type": "execute_result",
          "data": {
            "text/plain": [
              "LinearRegression(copy_X=True, fit_intercept=True, n_jobs=None, normalize=False)"
            ]
          },
          "metadata": {
            "tags": []
          },
          "execution_count": 7
        }
      ]
    },
    {
      "cell_type": "markdown",
      "metadata": {
        "id": "pj1NjFWE_uWs",
        "colab_type": "text"
      },
      "source": [
        "Çoklu doğrusal regresyon için tahmin ve gerçek değerler;"
      ]
    },
    {
      "cell_type": "code",
      "metadata": {
        "id": "BQLY5p2MBUo7",
        "colab_type": "code",
        "colab": {
          "base_uri": "https://localhost:8080/",
          "height": 144
        },
        "outputId": "534ba63a-f49d-46ba-e065-14268cc7a4b0"
      },
      "source": [
        "y_pred = regressor.predict(X_test)\n",
        "np.set_printoptions(precision=2)\n",
        "print(np.concatenate((y_pred.reshape(len(y_pred),1), y_test.reshape(len(y_test),1)),1))"
      ],
      "execution_count": null,
      "outputs": [
        {
          "output_type": "stream",
          "text": [
            "[[431.43 431.23]\n",
            " [458.56 460.01]\n",
            " [462.75 461.14]\n",
            " ...\n",
            " [469.52 473.26]\n",
            " [442.42 438.  ]\n",
            " [461.88 463.28]]\n"
          ],
          "name": "stdout"
        }
      ]
    },
    {
      "cell_type": "code",
      "metadata": {
        "id": "MtPX7rKSBUmz",
        "colab_type": "code",
        "colab": {
          "base_uri": "https://localhost:8080/",
          "height": 35
        },
        "outputId": "caba5d21-0f47-417e-f052-a4a03140149c"
      },
      "source": [
        "from sklearn.metrics import r2_score\n",
        "r2_score(y_test, y_pred)"
      ],
      "execution_count": null,
      "outputs": [
        {
          "output_type": "execute_result",
          "data": {
            "text/plain": [
              "0.9325315554761302"
            ]
          },
          "metadata": {
            "tags": []
          },
          "execution_count": 9
        }
      ]
    },
    {
      "cell_type": "markdown",
      "metadata": {
        "id": "WT4tOppfhVVJ",
        "colab_type": "text"
      },
      "source": [
        "# **Polinom Regresyon**\n",
        "\n",
        "Polinom regresyon, bağımsız değişken x ile bağımlı değişken y arasındaki ilişkinin, x cinsinden birinci derece polinom olarak modellendiği bir regresyon analizi şeklidir.Polinom regresyonu, x değeri ile E (y | x) olarak belirtilen y'nin karşılık gelen koşullu ortalaması arasındaki doğrusal olmayan bir ilişkiye uyar.Her ne kadar polinom regresyonu verilere doğrusal olmayan bir modele uysa da, istatistiksel bir tahmin problemi olarak doğrusaldır. Bu nedenle polinom regresyonu, çoklu doğrusal regresyonun özel bir durumu olarak kabul edilmektedir."
      ]
    },
    {
      "cell_type": "code",
      "metadata": {
        "id": "2yATjV8JBUkg",
        "colab_type": "code",
        "colab": {
          "base_uri": "https://localhost:8080/",
          "height": 35
        },
        "outputId": "ebd9f971-f4be-482a-e15d-5cadeef536bf"
      },
      "source": [
        "from sklearn.preprocessing import PolynomialFeatures\n",
        "from sklearn.linear_model import LinearRegression\n",
        "poly_reg = PolynomialFeatures(degree = 4)\n",
        "X_poly = poly_reg.fit_transform(X_train)\n",
        "regressor = LinearRegression()\n",
        "regressor.fit(X_poly, y_train)"
      ],
      "execution_count": null,
      "outputs": [
        {
          "output_type": "execute_result",
          "data": {
            "text/plain": [
              "LinearRegression(copy_X=True, fit_intercept=True, n_jobs=None, normalize=False)"
            ]
          },
          "metadata": {
            "tags": []
          },
          "execution_count": 10
        }
      ]
    },
    {
      "cell_type": "markdown",
      "metadata": {
        "id": "kXzUWCk2_0hx",
        "colab_type": "text"
      },
      "source": [
        "Polinom regresyon için tahmin ve gerçek değerler;"
      ]
    },
    {
      "cell_type": "code",
      "metadata": {
        "id": "GIU6kvHjBUia",
        "colab_type": "code",
        "colab": {
          "base_uri": "https://localhost:8080/",
          "height": 144
        },
        "outputId": "d3a25fbf-adac-4533-c195-01577769cbbd"
      },
      "source": [
        "y_pred = regressor.predict(poly_reg.transform(X_test))\n",
        "np.set_printoptions(precision=2)\n",
        "print(np.concatenate((y_pred.reshape(len(y_pred),1), y_test.reshape(len(y_test),1)),1))"
      ],
      "execution_count": null,
      "outputs": [
        {
          "output_type": "stream",
          "text": [
            "[[433.94 431.23]\n",
            " [457.9  460.01]\n",
            " [460.52 461.14]\n",
            " ...\n",
            " [469.53 473.26]\n",
            " [438.27 438.  ]\n",
            " [461.66 463.28]]\n"
          ],
          "name": "stdout"
        }
      ]
    },
    {
      "cell_type": "code",
      "metadata": {
        "id": "ym5xRsa_BUew",
        "colab_type": "code",
        "colab": {
          "base_uri": "https://localhost:8080/",
          "height": 35
        },
        "outputId": "d18eedab-d111-48ab-816b-f9b9b2b676f6"
      },
      "source": [
        "from sklearn.metrics import r2_score\n",
        "r2_score(y_test, y_pred)"
      ],
      "execution_count": null,
      "outputs": [
        {
          "output_type": "execute_result",
          "data": {
            "text/plain": [
              "0.9458192606428147"
            ]
          },
          "metadata": {
            "tags": []
          },
          "execution_count": 12
        }
      ]
    },
    {
      "cell_type": "markdown",
      "metadata": {
        "id": "fFyP-AvNka4j",
        "colab_type": "text"
      },
      "source": [
        "# **Destek Vektör Regresyonu** (svr)\n",
        "\n",
        "Makine öğreniminde, destek vektör makineleri, sınıflandırma ve regresyon analizi için kullanılan verileri analiz eden ilişkili öğrenme algoritmalarına sahip denetimli öğrenme modelleridir.Güçlü ve esnek modelleme tekniklerinden birisidir. Robust(dayanıklı yani aykırı değerlere karşı dayanıklı) bir regresyon modelidir. Amaç, bir marjin aralığına maksimum noktayı en küçük hatayla alabilecek şekilde doğru ya da eğriyi belirlemektir."
      ]
    },
    {
      "cell_type": "code",
      "metadata": {
        "id": "nKqu9ntUBUc8",
        "colab_type": "code",
        "colab": {}
      },
      "source": [
        "dataset = pd.read_csv('Data.csv')\n",
        "X = dataset.iloc[:, :-1].values\n",
        "y = dataset.iloc[:, -1].values"
      ],
      "execution_count": null,
      "outputs": []
    },
    {
      "cell_type": "code",
      "metadata": {
        "id": "lQNnjB9SBUar",
        "colab_type": "code",
        "colab": {}
      },
      "source": [
        "y = y.reshape(len(y),1)"
      ],
      "execution_count": null,
      "outputs": []
    },
    {
      "cell_type": "code",
      "metadata": {
        "id": "uElMMOl6BUYx",
        "colab_type": "code",
        "colab": {}
      },
      "source": [
        "from sklearn.model_selection import train_test_split\n",
        "X_train, X_test, y_train, y_test = train_test_split(X, y, test_size = 0.2, random_state = 0)"
      ],
      "execution_count": null,
      "outputs": []
    },
    {
      "cell_type": "code",
      "metadata": {
        "id": "GSfaE8fQBUWr",
        "colab_type": "code",
        "colab": {}
      },
      "source": [
        "from sklearn.preprocessing import StandardScaler\n",
        "sc_X = StandardScaler()\n",
        "sc_y = StandardScaler()\n",
        "X_train = sc_X.fit_transform(X_train)\n",
        "y_train = sc_y.fit_transform(y_train)"
      ],
      "execution_count": null,
      "outputs": []
    },
    {
      "cell_type": "code",
      "metadata": {
        "id": "cKlzXHLrBUUo",
        "colab_type": "code",
        "colab": {
          "base_uri": "https://localhost:8080/",
          "height": 110
        },
        "outputId": "a37c1e50-7426-4ae6-cdcd-0a3bb023127c"
      },
      "source": [
        "from sklearn.svm import SVR\n",
        "regressor = SVR(kernel = 'rbf')\n",
        "regressor.fit(X_train, y_train)"
      ],
      "execution_count": null,
      "outputs": [
        {
          "output_type": "stream",
          "text": [
            "/usr/local/lib/python3.6/dist-packages/sklearn/utils/validation.py:760: DataConversionWarning: A column-vector y was passed when a 1d array was expected. Please change the shape of y to (n_samples, ), for example using ravel().\n",
            "  y = column_or_1d(y, warn=True)\n"
          ],
          "name": "stderr"
        },
        {
          "output_type": "execute_result",
          "data": {
            "text/plain": [
              "SVR(C=1.0, cache_size=200, coef0=0.0, degree=3, epsilon=0.1, gamma='scale',\n",
              "    kernel='rbf', max_iter=-1, shrinking=True, tol=0.001, verbose=False)"
            ]
          },
          "metadata": {
            "tags": []
          },
          "execution_count": 17
        }
      ]
    },
    {
      "cell_type": "markdown",
      "metadata": {
        "id": "J8A091rG_2F9",
        "colab_type": "text"
      },
      "source": [
        "Destek vektör regresyonu için tahmin ve gerçek değerler;"
      ]
    },
    {
      "cell_type": "code",
      "metadata": {
        "id": "JtNwRvmjBUSw",
        "colab_type": "code",
        "colab": {
          "base_uri": "https://localhost:8080/",
          "height": 144
        },
        "outputId": "dd3be7f7-7a09-44b9-f5c0-271605e77a50"
      },
      "source": [
        "y_pred = sc_y.inverse_transform(regressor.predict(sc_X.transform(X_test)))\n",
        "np.set_printoptions(precision=2)\n",
        "print(np.concatenate((y_pred.reshape(len(y_pred),1), y_test.reshape(len(y_test),1)),1))"
      ],
      "execution_count": null,
      "outputs": [
        {
          "output_type": "stream",
          "text": [
            "[[434.05 431.23]\n",
            " [457.94 460.01]\n",
            " [461.03 461.14]\n",
            " ...\n",
            " [470.6  473.26]\n",
            " [439.42 438.  ]\n",
            " [460.92 463.28]]\n"
          ],
          "name": "stdout"
        }
      ]
    },
    {
      "cell_type": "code",
      "metadata": {
        "id": "GJkPOCM_BUQt",
        "colab_type": "code",
        "colab": {
          "base_uri": "https://localhost:8080/",
          "height": 35
        },
        "outputId": "afc96c89-9cbf-4343-aaf0-6da8e24515a3"
      },
      "source": [
        "from sklearn.metrics import r2_score\n",
        "r2_score(y_test, y_pred)"
      ],
      "execution_count": null,
      "outputs": [
        {
          "output_type": "execute_result",
          "data": {
            "text/plain": [
              "0.9480784049986258"
            ]
          },
          "metadata": {
            "tags": []
          },
          "execution_count": 19
        }
      ]
    },
    {
      "cell_type": "markdown",
      "metadata": {
        "id": "0OiGQ9vxltDm",
        "colab_type": "text"
      },
      "source": [
        "# **Karar Ağaçları Regresyon**\n",
        "\n",
        "Karar ağacı, ağaç yapısı şeklinde regresyon veya sınıflandırma modelleri oluşturur. Bir veri kümesini daha küçük ve daha küçük alt kümelere ayırırken, aynı zamanda ilişkili bir karar ağacı kademeli olarak geliştirilir. Nihai sonuç karar düğümleri ve yaprak düğümleri olan bir ağaçtır. Karar düğümünde  her biri test edilen öznitelik için değerleri temsil eden iki veya daha fazla dal vardır. Yaprak düğümü sayısal hedefe ilişkin bir kararı temsil eder. Bir ağaçta kök düğüm, en iyi yordayıcıya karşılık gelen en üst karar düğümüdür. Karar ağaçları hem kategorik hem de sayısal verileri işleyebilir.\n",
        "\n",
        "Özellikle de karar analizinde, bir hedefe ulaşma olasılığı en yüksek olan stratejiyi belirlemeye yardımcı olmak için yaygın olarak kullanılır, ancak aynı zamanda makine öğreniminde de popüler bir araçtır."
      ]
    },
    {
      "cell_type": "code",
      "metadata": {
        "id": "Cyjqj-jdF-lO",
        "colab_type": "code",
        "colab": {}
      },
      "source": [
        "dataset = pd.read_csv('Data.csv')\n",
        "X = dataset.iloc[:, :-1].values\n",
        "y = dataset.iloc[:, -1].values"
      ],
      "execution_count": null,
      "outputs": []
    },
    {
      "cell_type": "code",
      "metadata": {
        "id": "dNbzGq6PGFGI",
        "colab_type": "code",
        "colab": {}
      },
      "source": [
        "from sklearn.model_selection import train_test_split\n",
        "X_train, X_test, y_train, y_test = train_test_split(X, y, test_size = 0.2, random_state = 0)"
      ],
      "execution_count": null,
      "outputs": []
    },
    {
      "cell_type": "code",
      "metadata": {
        "id": "5F4i1nZ1BUOr",
        "colab_type": "code",
        "colab": {
          "base_uri": "https://localhost:8080/",
          "height": 126
        },
        "outputId": "e69be7fc-4176-4726-aca6-ad13302b49d6"
      },
      "source": [
        "from sklearn.tree import DecisionTreeRegressor\n",
        "regressor = DecisionTreeRegressor(random_state = 0)\n",
        "regressor.fit(X_train, y_train)"
      ],
      "execution_count": null,
      "outputs": [
        {
          "output_type": "execute_result",
          "data": {
            "text/plain": [
              "DecisionTreeRegressor(ccp_alpha=0.0, criterion='mse', max_depth=None,\n",
              "                      max_features=None, max_leaf_nodes=None,\n",
              "                      min_impurity_decrease=0.0, min_impurity_split=None,\n",
              "                      min_samples_leaf=1, min_samples_split=2,\n",
              "                      min_weight_fraction_leaf=0.0, presort='deprecated',\n",
              "                      random_state=0, splitter='best')"
            ]
          },
          "metadata": {
            "tags": []
          },
          "execution_count": 22
        }
      ]
    },
    {
      "cell_type": "markdown",
      "metadata": {
        "id": "3F65rf82ADaN",
        "colab_type": "text"
      },
      "source": [
        "Karar ağacı regresyonu için tahmin ve gerçek değerler;"
      ]
    },
    {
      "cell_type": "code",
      "metadata": {
        "id": "xVrXWHYUBUMl",
        "colab_type": "code",
        "colab": {
          "base_uri": "https://localhost:8080/",
          "height": 144
        },
        "outputId": "70fce4f7-e950-4f26-8ac2-516a0a7fb6bd"
      },
      "source": [
        "y_pred = regressor.predict(X_test)\n",
        "np.set_printoptions(precision=2)\n",
        "print(np.concatenate((y_pred.reshape(len(y_pred),1), y_test.reshape(len(y_test),1)),1))"
      ],
      "execution_count": null,
      "outputs": [
        {
          "output_type": "stream",
          "text": [
            "[[431.28 431.23]\n",
            " [462.81 460.01]\n",
            " [460.06 461.14]\n",
            " ...\n",
            " [471.46 473.26]\n",
            " [437.76 438.  ]\n",
            " [462.55 463.28]]\n"
          ],
          "name": "stdout"
        }
      ]
    },
    {
      "cell_type": "code",
      "metadata": {
        "id": "UVCtqqwEBUKY",
        "colab_type": "code",
        "colab": {
          "base_uri": "https://localhost:8080/",
          "height": 35
        },
        "outputId": "1f0396a2-d057-4b52-cd5a-cbd9edaab108"
      },
      "source": [
        "from sklearn.metrics import r2_score\n",
        "r2_score(y_test, y_pred)"
      ],
      "execution_count": null,
      "outputs": [
        {
          "output_type": "execute_result",
          "data": {
            "text/plain": [
              "0.9226091050550043"
            ]
          },
          "metadata": {
            "tags": []
          },
          "execution_count": 24
        }
      ]
    },
    {
      "cell_type": "markdown",
      "metadata": {
        "id": "30lCkpEAnpvc",
        "colab_type": "text"
      },
      "source": [
        "# **Rastgele Ormanlar Regresyonu**\n",
        "\n",
        "Birden fazla algoritmanın ya da birden fazla ağacın bir araya gelerek toplu bir şekilde öğrenmesi ve tahmin etmeye çalışmasını sağlar.\n",
        "Her karar ağacının yüksek varyansı vardır, ancak hepsini paralel olarak birleştirdiğimizde, sonuçta varyans düşüktür, çünkü her karar ağacı belirli örnek veriler üzerinde mükemmel bir şekilde eğitilir ve dolayısıyla çıktı bir karar ağacına bağlı değildir, birden fazla karar ağacına bağlıdır.  Bir regresyon problemi durumunda, nihai çıktı tüm çıktıların ortalamasıdır. \n",
        "Rastgele Orman, çoklu karar ağaçlarının kullanımı ile hem regresyon hem de sınıflandırma görevlerini yerine getirebilen ve genellikle Bootstrap ve Aggregation ismiyle bilinen bir tekniktir. Bunun arkasındaki temel fikir, bireysel karar ağaçlarına güvenmek yerine, nihai çıktıyı belirlemede birden fazla karar ağacını birleştirmektir. Her model için rasgele satır örneklemesi ve veri kümesi oluşturan örnek veri kümelerinden özellik örneklemesi gerçekleştirilir. Bu bölüme Bootstrap denir."
      ]
    },
    {
      "cell_type": "code",
      "metadata": {
        "id": "XI3WngkgBUIP",
        "colab_type": "code",
        "colab": {
          "base_uri": "https://localhost:8080/",
          "height": 144
        },
        "outputId": "91c23766-1e4d-4b3d-a210-c4d82bc26e50"
      },
      "source": [
        "from sklearn.ensemble import RandomForestRegressor\n",
        "regressor = RandomForestRegressor(n_estimators = 10, random_state = 0)\n",
        "regressor.fit(X_train, y_train)"
      ],
      "execution_count": null,
      "outputs": [
        {
          "output_type": "execute_result",
          "data": {
            "text/plain": [
              "RandomForestRegressor(bootstrap=True, ccp_alpha=0.0, criterion='mse',\n",
              "                      max_depth=None, max_features='auto', max_leaf_nodes=None,\n",
              "                      max_samples=None, min_impurity_decrease=0.0,\n",
              "                      min_impurity_split=None, min_samples_leaf=1,\n",
              "                      min_samples_split=2, min_weight_fraction_leaf=0.0,\n",
              "                      n_estimators=10, n_jobs=None, oob_score=False,\n",
              "                      random_state=0, verbose=0, warm_start=False)"
            ]
          },
          "metadata": {
            "tags": []
          },
          "execution_count": 25
        }
      ]
    },
    {
      "cell_type": "markdown",
      "metadata": {
        "id": "P5P3zcGOAIaO",
        "colab_type": "text"
      },
      "source": [
        "Rastgele orman regresyonu için tahmin ve gerçek değerler;"
      ]
    },
    {
      "cell_type": "code",
      "metadata": {
        "id": "TbzSlwYiBUGB",
        "colab_type": "code",
        "colab": {
          "base_uri": "https://localhost:8080/",
          "height": 144
        },
        "outputId": "2b554cd3-4c28-4eff-c81d-660908109755"
      },
      "source": [
        "y_pred = regressor.predict(X_test)\n",
        "np.set_printoptions(precision=2)\n",
        "print(np.concatenate((y_pred.reshape(len(y_pred),1), y_test.reshape(len(y_test),1)),1))"
      ],
      "execution_count": null,
      "outputs": [
        {
          "output_type": "stream",
          "text": [
            "[[433.78 431.23]\n",
            " [457.99 460.01]\n",
            " [463.14 461.14]\n",
            " ...\n",
            " [470.16 473.26]\n",
            " [439.51 438.  ]\n",
            " [460.32 463.28]]\n"
          ],
          "name": "stdout"
        }
      ]
    },
    {
      "cell_type": "code",
      "metadata": {
        "id": "J-PoGBN4BUEB",
        "colab_type": "code",
        "colab": {
          "base_uri": "https://localhost:8080/",
          "height": 35
        },
        "outputId": "6618a34e-ac50-46ab-d01b-674a2ae7fc9a"
      },
      "source": [
        "from sklearn.metrics import r2_score\n",
        "r2_score(y_test, y_pred)"
      ],
      "execution_count": null,
      "outputs": [
        {
          "output_type": "execute_result",
          "data": {
            "text/plain": [
              "0.9615980699813017"
            ]
          },
          "metadata": {
            "tags": []
          },
          "execution_count": 32
        }
      ]
    },
    {
      "cell_type": "markdown",
      "metadata": {
        "id": "V8MjWegsGSTE",
        "colab_type": "text"
      },
      "source": [
        "En iyi model R-kare değeri 1'e en yakın olan Rastgele Orman Regresyonu modelidir. Bu veri için Rastgele orman ile tahmin yapmak daha güvenilirdir."
      ]
    }
  ]
}